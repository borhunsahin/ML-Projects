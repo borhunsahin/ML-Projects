{
  "cells": [
    {
      "cell_type": "code",
      "execution_count": 1,
      "metadata": {
        "id": "-z83fpLHJyH0"
      },
      "outputs": [],
      "source": [
        "import pandas as pd\n",
        "from pandas.core.reshape.concat import concat\n",
        "import numpy as np\n",
        "\n",
        "import matplotlib.pyplot as plt\n",
        "import seaborn as sns\n",
        "\n",
        "from sklearn.datasets import load_iris\n",
        "from sklearn.model_selection import train_test_split,GridSearchCV\n",
        "from sklearn.linear_model import LogisticRegression\n",
        "from sklearn.neighbors import KNeighborsClassifier\n",
        "from sklearn.tree import DecisionTreeClassifier\n",
        "from sklearn import svm\n",
        "\n",
        "from sklearn.metrics import accuracy_score"
      ]
    },
    {
      "cell_type": "code",
      "execution_count": 2,
      "metadata": {
        "id": "oQCO0jkSJykB"
      },
      "outputs": [],
      "source": [
        "iris = load_iris()"
      ]
    },
    {
      "cell_type": "code",
      "execution_count": 3,
      "metadata": {
        "id": "lmF1uhwfJysL"
      },
      "outputs": [],
      "source": [
        "features_df = pd.DataFrame(data=iris.data, columns=iris.feature_names)\n",
        "label_df = pd.DataFrame(iris.target,columns=[\"species\"])"
      ]
    },
    {
      "cell_type": "code",
      "execution_count": 4,
      "metadata": {
        "id": "DgbFziG4Jyuf"
      },
      "outputs": [],
      "source": [
        "iris_df = concat([features_df,label_df],axis=1)"
      ]
    },
    {
      "cell_type": "code",
      "execution_count": 5,
      "metadata": {
        "colab": {
          "base_uri": "https://localhost:8080/"
        },
        "id": "HAUuZ7PlJywf",
        "outputId": "9751f8e2-608f-44b7-dc14-a872c514ce74"
      },
      "outputs": [
        {
          "name": "stdout",
          "output_type": "stream",
          "text": [
            "     sepal length (cm)  sepal width (cm)  petal length (cm)  petal width (cm)  \\\n",
            "0                  5.1               3.5                1.4               0.2   \n",
            "1                  4.9               3.0                1.4               0.2   \n",
            "2                  4.7               3.2                1.3               0.2   \n",
            "3                  4.6               3.1                1.5               0.2   \n",
            "4                  5.0               3.6                1.4               0.2   \n",
            "..                 ...               ...                ...               ...   \n",
            "145                6.7               3.0                5.2               2.3   \n",
            "146                6.3               2.5                5.0               1.9   \n",
            "147                6.5               3.0                5.2               2.0   \n",
            "148                6.2               3.4                5.4               2.3   \n",
            "149                5.9               3.0                5.1               1.8   \n",
            "\n",
            "     species  \n",
            "0          0  \n",
            "1          0  \n",
            "2          0  \n",
            "3          0  \n",
            "4          0  \n",
            "..       ...  \n",
            "145        2  \n",
            "146        2  \n",
            "147        2  \n",
            "148        2  \n",
            "149        2  \n",
            "\n",
            "[150 rows x 5 columns]\n"
          ]
        }
      ],
      "source": [
        "print(iris_df)"
      ]
    },
    {
      "cell_type": "code",
      "execution_count": 6,
      "metadata": {
        "colab": {
          "base_uri": "https://localhost:8080/"
        },
        "id": "BcPb99MJJyyh",
        "outputId": "4816a9a0-e3cd-4add-8c4b-1fb806eb77cd"
      },
      "outputs": [
        {
          "name": "stdout",
          "output_type": "stream",
          "text": [
            "sepal length (cm)    0\n",
            "sepal width (cm)     0\n",
            "petal length (cm)    0\n",
            "petal width (cm)     0\n",
            "species              0\n",
            "dtype: int64\n"
          ]
        }
      ],
      "source": [
        "print(iris_df.isna().sum())"
      ]
    },
    {
      "cell_type": "code",
      "execution_count": 7,
      "metadata": {
        "colab": {
          "base_uri": "https://localhost:8080/"
        },
        "id": "VK3poFhXJy0g",
        "outputId": "8897395d-e89d-4513-8ef2-521176077d95"
      },
      "outputs": [
        {
          "name": "stdout",
          "output_type": "stream",
          "text": [
            "<class 'pandas.core.frame.DataFrame'>\n",
            "RangeIndex: 150 entries, 0 to 149\n",
            "Data columns (total 5 columns):\n",
            " #   Column             Non-Null Count  Dtype  \n",
            "---  ------             --------------  -----  \n",
            " 0   sepal length (cm)  150 non-null    float64\n",
            " 1   sepal width (cm)   150 non-null    float64\n",
            " 2   petal length (cm)  150 non-null    float64\n",
            " 3   petal width (cm)   150 non-null    float64\n",
            " 4   species            150 non-null    int32  \n",
            "dtypes: float64(4), int32(1)\n",
            "memory usage: 5.4 KB\n",
            "None\n"
          ]
        }
      ],
      "source": [
        "print(iris_df.info())"
      ]
    },
    {
      "cell_type": "code",
      "execution_count": 8,
      "metadata": {
        "colab": {
          "base_uri": "https://localhost:8080/"
        },
        "id": "e9OPGv8TJy2Z",
        "outputId": "1111d32a-fc70-4db9-eb7f-f3132b1ef551"
      },
      "outputs": [
        {
          "name": "stdout",
          "output_type": "stream",
          "text": [
            "                   count      mean       std  min  25%   50%  75%  max\n",
            "sepal length (cm)  150.0  5.843333  0.828066  4.3  5.1  5.80  6.4  7.9\n",
            "sepal width (cm)   150.0  3.057333  0.435866  2.0  2.8  3.00  3.3  4.4\n",
            "petal length (cm)  150.0  3.758000  1.765298  1.0  1.6  4.35  5.1  6.9\n",
            "petal width (cm)   150.0  1.199333  0.762238  0.1  0.3  1.30  1.8  2.5\n",
            "species            150.0  1.000000  0.819232  0.0  0.0  1.00  2.0  2.0\n"
          ]
        }
      ],
      "source": [
        "print(iris_df.describe().T)"
      ]
    },
    {
      "cell_type": "code",
      "execution_count": 9,
      "metadata": {
        "colab": {
          "base_uri": "https://localhost:8080/"
        },
        "id": "EzcNpNugJy4T",
        "outputId": "89ced442-4166-4af7-ef5d-6f98bd71c2ca"
      },
      "outputs": [
        {
          "name": "stdout",
          "output_type": "stream",
          "text": [
            "Features =  sepal length (cm) sepal width (cm) petal length (cm) petal width (cm)\n"
          ]
        }
      ],
      "source": [
        "print(\"Features = \",iris_df.columns[0],iris_df.columns[1],iris_df.columns[2],iris_df.columns[3])"
      ]
    },
    {
      "cell_type": "code",
      "execution_count": 10,
      "metadata": {
        "colab": {
          "base_uri": "https://localhost:8080/"
        },
        "id": "N2L5Z_6GJy6G",
        "outputId": "235f3cd4-c977-4eea-b7af-ccefa0620757"
      },
      "outputs": [
        {
          "name": "stdout",
          "output_type": "stream",
          "text": [
            "Label =  species\n"
          ]
        }
      ],
      "source": [
        "print(\"Label = \",iris_df.columns[4])"
      ]
    },
    {
      "cell_type": "code",
      "execution_count": 11,
      "metadata": {
        "colab": {
          "base_uri": "https://localhost:8080/",
          "height": 743
        },
        "id": "Uc1oUT5XJy76",
        "outputId": "9d4459f2-3983-4aad-ac12-5c28ab35ce9a"
      },
      "outputs": [
        {
          "data": {
            "text/plain": [
              "<seaborn.axisgrid.PairGrid at 0x2cb9aa735b0>"
            ]
          },
          "execution_count": 11,
          "metadata": {},
          "output_type": "execute_result"
        },
        {
          "data": {
            "image/png": "[encoded data removed]",
            "text/plain": [
              "<Figure size 765.375x720 with 20 Axes>"
            ]
          },
          "metadata": {
            "needs_background": "light"
          },
          "output_type": "display_data"
        }
      ],
      "source": [
        "sns.pairplot(iris_df, hue='species',palette=\"tab10\")"
      ]
    },
    {
      "cell_type": "code",
      "execution_count": 12,
      "metadata": {
        "id": "ycuRwXNlJy95"
      },
      "outputs": [],
      "source": [
        "x = iris_df.drop(\"species\", axis = 1)\n",
        "y = iris_df[\"species\"].astype(\"category\")"
      ]
    },
    {
      "cell_type": "code",
      "execution_count": 13,
      "metadata": {
        "id": "OJzrEfyQJy_x"
      },
      "outputs": [],
      "source": [
        "X_train,X_test,Y_train,Y_test=train_test_split(x,y,test_size=0.3)"
      ]
    },
    {
      "cell_type": "code",
      "execution_count": 14,
      "metadata": {
        "colab": {
          "base_uri": "https://localhost:8080/"
        },
        "id": "TqOKz7XlJzBm",
        "outputId": "27570fe9-3fa1-45a7-9dbd-8f67d7670b40"
      },
      "outputs": [
        {
          "name": "stdout",
          "output_type": "stream",
          "text": [
            "     sepal length (cm)  sepal width (cm)  petal length (cm)  petal width (cm)\n",
            "98                 5.1               2.5                3.0               1.1\n",
            "0                  5.1               3.5                1.4               0.2\n",
            "26                 5.0               3.4                1.6               0.4\n",
            "15                 5.7               4.4                1.5               0.4\n",
            "87                 6.3               2.3                4.4               1.3\n",
            "..                 ...               ...                ...               ...\n",
            "94                 5.6               2.7                4.2               1.3\n",
            "55                 5.7               2.8                4.5               1.3\n",
            "114                5.8               2.8                5.1               2.4\n",
            "64                 5.6               2.9                3.6               1.3\n",
            "22                 4.6               3.6                1.0               0.2\n",
            "\n",
            "[105 rows x 4 columns]\n"
          ]
        }
      ],
      "source": [
        "print(X_train)"
      ]
    },
    {
      "cell_type": "code",
      "execution_count": 15,
      "metadata": {
        "colab": {
          "base_uri": "https://localhost:8080/"
        },
        "id": "Xt9ZUcdDJzDc",
        "outputId": "5d7f09cf-ac74-4d2c-830e-650e0cc30cde"
      },
      "outputs": [
        {
          "name": "stdout",
          "output_type": "stream",
          "text": [
            "     sepal length (cm)  sepal width (cm)  petal length (cm)  petal width (cm)\n",
            "115                6.4               3.2                5.3               2.3\n",
            "43                 5.0               3.5                1.6               0.6\n",
            "100                6.3               3.3                6.0               2.5\n",
            "50                 7.0               3.2                4.7               1.4\n",
            "18                 5.7               3.8                1.7               0.3\n",
            "134                6.1               2.6                5.6               1.4\n",
            "42                 4.4               3.2                1.3               0.2\n",
            "113                5.7               2.5                5.0               2.0\n",
            "128                6.4               2.8                5.6               2.1\n",
            "56                 6.3               3.3                4.7               1.6\n",
            "126                6.2               2.8                4.8               1.8\n",
            "84                 5.4               3.0                4.5               1.5\n",
            "119                6.0               2.2                5.0               1.5\n",
            "88                 5.6               3.0                4.1               1.3\n",
            "31                 5.4               3.4                1.5               0.4\n",
            "27                 5.2               3.5                1.5               0.2\n",
            "30                 4.8               3.1                1.6               0.2\n",
            "135                7.7               3.0                6.1               2.3\n",
            "69                 5.6               2.5                3.9               1.1\n",
            "61                 5.9               3.0                4.2               1.5\n",
            "136                6.3               3.4                5.6               2.4\n",
            "91                 6.1               3.0                4.6               1.4\n",
            "29                 4.7               3.2                1.6               0.2\n",
            "45                 4.8               3.0                1.4               0.3\n",
            "16                 5.4               3.9                1.3               0.4\n",
            "123                6.3               2.7                4.9               1.8\n",
            "53                 5.5               2.3                4.0               1.3\n",
            "9                  4.9               3.1                1.5               0.1\n",
            "60                 5.0               2.0                3.5               1.0\n",
            "148                6.2               3.4                5.4               2.3\n",
            "52                 6.9               3.1                4.9               1.5\n",
            "2                  4.7               3.2                1.3               0.2\n",
            "127                6.1               3.0                4.9               1.8\n",
            "36                 5.5               3.5                1.3               0.2\n",
            "89                 5.5               2.5                4.0               1.3\n",
            "92                 5.8               2.6                4.0               1.2\n",
            "145                6.7               3.0                5.2               2.3\n",
            "149                5.9               3.0                5.1               1.8\n",
            "58                 6.6               2.9                4.6               1.3\n",
            "80                 5.5               2.4                3.8               1.1\n",
            "4                  5.0               3.6                1.4               0.2\n",
            "48                 5.3               3.7                1.5               0.2\n",
            "102                7.1               3.0                5.9               2.1\n",
            "21                 5.1               3.7                1.5               0.4\n",
            "28                 5.2               3.4                1.4               0.2\n"
          ]
        }
      ],
      "source": [
        "print(X_test)"
      ]
    },
    {
      "cell_type": "code",
      "execution_count": 16,
      "metadata": {
        "colab": {
          "base_uri": "https://localhost:8080/"
        },
        "id": "bKH4dSY2JzFS",
        "outputId": "c1d18c00-d4fb-4fb8-f6a0-2f72dd771424"
      },
      "outputs": [
        {
          "name": "stdout",
          "output_type": "stream",
          "text": [
            "98     1\n",
            "0      0\n",
            "26     0\n",
            "15     0\n",
            "87     1\n",
            "      ..\n",
            "94     1\n",
            "55     1\n",
            "114    2\n",
            "64     1\n",
            "22     0\n",
            "Name: species, Length: 105, dtype: category\n",
            "Categories (3, int64): [0, 1, 2]\n"
          ]
        }
      ],
      "source": [
        "print(Y_train)"
      ]
    },
    {
      "cell_type": "code",
      "execution_count": 17,
      "metadata": {
        "colab": {
          "base_uri": "https://localhost:8080/"
        },
        "id": "wtnvIC8YJzHP",
        "outputId": "dcdd5ac0-1f77-47dc-b41a-2d3f94db9d9e"
      },
      "outputs": [
        {
          "name": "stdout",
          "output_type": "stream",
          "text": [
            "115    2\n",
            "43     0\n",
            "100    2\n",
            "50     1\n",
            "18     0\n",
            "134    2\n",
            "42     0\n",
            "113    2\n",
            "128    2\n",
            "56     1\n",
            "126    2\n",
            "84     1\n",
            "119    2\n",
            "88     1\n",
            "31     0\n",
            "27     0\n",
            "30     0\n",
            "135    2\n",
            "69     1\n",
            "61     1\n",
            "136    2\n",
            "91     1\n",
            "29     0\n",
            "45     0\n",
            "16     0\n",
            "123    2\n",
            "53     1\n",
            "9      0\n",
            "60     1\n",
            "148    2\n",
            "52     1\n",
            "2      0\n",
            "127    2\n",
            "36     0\n",
            "89     1\n",
            "92     1\n",
            "145    2\n",
            "149    2\n",
            "58     1\n",
            "80     1\n",
            "4      0\n",
            "48     0\n",
            "102    2\n",
            "21     0\n",
            "28     0\n",
            "Name: species, dtype: category\n",
            "Categories (3, int64): [0, 1, 2]\n"
          ]
        }
      ],
      "source": [
        "print(Y_test)"
      ]
    },
    {
      "cell_type": "code",
      "execution_count": 18,
      "metadata": {
        "colab": {
          "base_uri": "https://localhost:8080/"
        },
        "id": "hm-WUgRBJzJC",
        "outputId": "646b955c-cbd6-43c8-8983-424dfcbef03b"
      },
      "outputs": [
        {
          "name": "stdout",
          "output_type": "stream",
          "text": [
            "Logistic Regression Accuracy =  0.9555555555555556\n"
          ]
        }
      ],
      "source": [
        "logistic_model = LogisticRegression(max_iter = 200).fit(X_train,Y_train)\n",
        "\n",
        "prediction = logistic_model.predict(X_test)\n",
        "print(\"Logistic Regression Accuracy = \",accuracy_score(prediction,Y_test))"
      ]
    },
    {
      "cell_type": "code",
      "execution_count": 19,
      "metadata": {
        "colab": {
          "base_uri": "https://localhost:8080/"
        },
        "id": "Ce10F1mwJzKz",
        "outputId": "fd74ab1f-0773-4739-b8bb-fb95446dc64a"
      },
      "outputs": [
        {
          "name": "stdout",
          "output_type": "stream",
          "text": [
            "K-Nearest Neighbors Bets Parmeter =  {'n_neighbors': 4}\n",
            "K-Nearest Neighbors Accuracy =  0.9619047619047618\n"
          ]
        }
      ],
      "source": [
        "k_nearest_neighbors_model = GridSearchCV(KNeighborsClassifier(),{\"n_neighbors\":np.arange(1,25)},cv=5).fit(X_train,Y_train.values.ravel())\n",
        "print(\"K-Nearest Neighbors Bets Parmeter = \",k_nearest_neighbors_model.best_params_)\n",
        "print(\"K-Nearest Neighbors Accuracy = \",k_nearest_neighbors_model.best_score_)"
      ]
    },
    {
      "cell_type": "code",
      "execution_count": 20,
      "metadata": {
        "colab": {
          "base_uri": "https://localhost:8080/"
        },
        "id": "4KLXbLL1l30z",
        "outputId": "dab45cbc-f27e-406a-ff5d-796f4e3e431b"
      },
      "outputs": [
        {
          "name": "stdout",
          "output_type": "stream",
          "text": [
            "Support Vector Machine Accuracy =  0.9555555555555556\n"
          ]
        }
      ],
      "source": [
        "support_vector_machine_model = svm.SVC().fit(X_train,Y_train)\n",
        "prediction = support_vector_machine_model.predict(X_test)\n",
        "print(\"Support Vector Machine Accuracy = \",accuracy_score(prediction,Y_test))"
      ]
    },
    {
      "cell_type": "code",
      "execution_count": 21,
      "metadata": {
        "colab": {
          "base_uri": "https://localhost:8080/"
        },
        "id": "0eDclum4JzM5",
        "outputId": "0490bad9-e8ad-40ab-b65d-2196e038b0fc"
      },
      "outputs": [
        {
          "name": "stdout",
          "output_type": "stream",
          "text": [
            "Decision Tree Accuracy =  0.9555555555555556\n"
          ]
        }
      ],
      "source": [
        "decision_tree_model = DecisionTreeClassifier().fit(X_train,Y_train)\n",
        "prediction = decision_tree_model.predict(X_test)\n",
        "print(\"Decision Tree Accuracy = \",accuracy_score(prediction,Y_test))"
      ]
    },
    {
      "cell_type": "code",
      "execution_count": 22,
      "metadata": {
        "id": "FAfeRRo4JzO4"
      },
      "outputs": [],
      "source": [
        "prediction_knn_df = pd.DataFrame(k_nearest_neighbors_model.predict(x),columns=[\"prediction\"])\n",
        "prediction_iris_df = pd.DataFrame(concat([iris_df,prediction_knn_df],axis=1))"
      ]
    },
    {
      "cell_type": "code",
      "execution_count": 23,
      "metadata": {
        "colab": {
          "base_uri": "https://localhost:8080/"
        },
        "id": "8V-PehCq2ikd",
        "outputId": "36edcdd8-96ed-4949-d8a9-bd8a755f0f2b"
      },
      "outputs": [
        {
          "name": "stdout",
          "output_type": "stream",
          "text": [
            "     sepal length (cm)  sepal width (cm)  petal length (cm)  petal width (cm)  \\\n",
            "0                  5.1               3.5                1.4               0.2   \n",
            "1                  4.9               3.0                1.4               0.2   \n",
            "2                  4.7               3.2                1.3               0.2   \n",
            "3                  4.6               3.1                1.5               0.2   \n",
            "4                  5.0               3.6                1.4               0.2   \n",
            "..                 ...               ...                ...               ...   \n",
            "145                6.7               3.0                5.2               2.3   \n",
            "146                6.3               2.5                5.0               1.9   \n",
            "147                6.5               3.0                5.2               2.0   \n",
            "148                6.2               3.4                5.4               2.3   \n",
            "149                5.9               3.0                5.1               1.8   \n",
            "\n",
            "     species  prediction  \n",
            "0          0           0  \n",
            "1          0           0  \n",
            "2          0           0  \n",
            "3          0           0  \n",
            "4          0           0  \n",
            "..       ...         ...  \n",
            "145        2           2  \n",
            "146        2           1  \n",
            "147        2           2  \n",
            "148        2           2  \n",
            "149        2           2  \n",
            "\n",
            "[150 rows x 6 columns]\n"
          ]
        }
      ],
      "source": [
        "print(prediction_iris_df)"
      ]
    },
    {
      "cell_type": "code",
      "execution_count": 24,
      "metadata": {
        "id": "XFGNl0RpD5Nw"
      },
      "outputs": [],
      "source": [
        "sepal_x = iris_df[[\"sepal length (cm)\",\"sepal width (cm)\"]]\n",
        "sepal_y = iris_df[[\"species\"]]"
      ]
    },
    {
      "cell_type": "code",
      "execution_count": 25,
      "metadata": {
        "colab": {
          "base_uri": "https://localhost:8080/",
          "height": 386
        },
        "id": "GA722Sf23iu-",
        "outputId": "1956f088-2a2c-4857-ebc2-ca7e347c2932"
      },
      "outputs": [
        {
          "data": {
            "text/plain": [
              "<seaborn.axisgrid.FacetGrid at 0x2cb9d2b6850>"
            ]
          },
          "execution_count": 25,
          "metadata": {},
          "output_type": "execute_result"
        },
        {
          "data": {
            "image/png": "[encoded data removed]",
            "text/plain": [
              "<Figure size 405.375x360 with 1 Axes>"
            ]
          },
          "metadata": {
            "needs_background": "light"
          },
          "output_type": "display_data"
        }
      ],
      "source": [
        "sns.lmplot(x=\"sepal length (cm)\",y=\"sepal width (cm)\",fit_reg = False,hue=\"species\",data = iris_df)"
      ]
    },
    {
      "cell_type": "code",
      "execution_count": 26,
      "metadata": {
        "id": "8CkeMtYoD5QC"
      },
      "outputs": [],
      "source": [
        "X_train,X_test,Y_train,Y_test = train_test_split(sepal_x,sepal_y,test_size=0.3)"
      ]
    },
    {
      "cell_type": "code",
      "execution_count": 27,
      "metadata": {
        "colab": {
          "base_uri": "https://localhost:8080/"
        },
        "id": "aWq2xPXvD5SU",
        "outputId": "5b0bef42-1a1a-463a-c9a9-24a84273c980"
      },
      "outputs": [
        {
          "name": "stdout",
          "output_type": "stream",
          "text": [
            "     sepal length (cm)  sepal width (cm)\n",
            "33                 5.5               4.2\n",
            "90                 5.5               2.6\n",
            "106                4.9               2.5\n",
            "140                6.7               3.1\n",
            "91                 6.1               3.0\n",
            "..                 ...               ...\n",
            "8                  4.4               2.9\n",
            "17                 5.1               3.5\n",
            "3                  4.6               3.1\n",
            "148                6.2               3.4\n",
            "37                 4.9               3.6\n",
            "\n",
            "[105 rows x 2 columns]\n"
          ]
        }
      ],
      "source": [
        "print(X_train)"
      ]
    },
    {
      "cell_type": "code",
      "execution_count": 28,
      "metadata": {
        "colab": {
          "base_uri": "https://localhost:8080/"
        },
        "id": "9q9oSvHeD5Uo",
        "outputId": "0dc07b35-cb3e-4488-e8a4-17bc3428b136"
      },
      "outputs": [
        {
          "name": "stdout",
          "output_type": "stream",
          "text": [
            "     sepal length (cm)  sepal width (cm)\n",
            "6                  4.6               3.4\n",
            "131                7.9               3.8\n",
            "74                 6.4               2.9\n",
            "103                6.3               2.9\n",
            "70                 5.9               3.2\n",
            "60                 5.0               2.0\n",
            "64                 5.6               2.9\n",
            "56                 6.3               3.3\n",
            "31                 5.4               3.4\n",
            "66                 5.6               3.0\n",
            "69                 5.6               2.5\n",
            "112                6.8               3.0\n",
            "54                 6.5               2.8\n",
            "109                7.2               3.6\n",
            "45                 4.8               3.0\n",
            "87                 6.3               2.3\n",
            "121                5.6               2.8\n",
            "12                 4.8               3.0\n",
            "115                6.4               3.2\n",
            "98                 5.1               2.5\n",
            "119                6.0               2.2\n",
            "114                5.8               2.8\n",
            "96                 5.7               2.9\n",
            "78                 6.0               2.9\n",
            "68                 6.2               2.2\n",
            "50                 7.0               3.2\n",
            "82                 5.8               2.7\n",
            "18                 5.7               3.8\n",
            "38                 4.4               3.0\n",
            "63                 6.1               2.9\n",
            "43                 5.0               3.5\n",
            "100                6.3               3.3\n",
            "58                 6.6               2.9\n",
            "137                6.4               3.1\n",
            "44                 5.1               3.8\n",
            "86                 6.7               3.1\n",
            "118                7.7               2.6\n",
            "133                6.3               2.8\n",
            "104                6.5               3.0\n",
            "36                 5.5               3.5\n",
            "77                 6.7               3.0\n",
            "41                 4.5               2.3\n",
            "94                 5.6               2.7\n",
            "67                 5.8               2.7\n",
            "110                6.5               3.2\n"
          ]
        }
      ],
      "source": [
        "print(X_test)"
      ]
    },
    {
      "cell_type": "code",
      "execution_count": 29,
      "metadata": {
        "colab": {
          "base_uri": "https://localhost:8080/"
        },
        "id": "2WkvFp5XD5XV",
        "outputId": "344ab4c4-672b-4570-cbb9-9af214f34cdc"
      },
      "outputs": [
        {
          "name": "stdout",
          "output_type": "stream",
          "text": [
            "     species\n",
            "33         0\n",
            "90         1\n",
            "106        2\n",
            "140        2\n",
            "91         1\n",
            "..       ...\n",
            "8          0\n",
            "17         0\n",
            "3          0\n",
            "148        2\n",
            "37         0\n",
            "\n",
            "[105 rows x 1 columns]\n"
          ]
        }
      ],
      "source": [
        "print(Y_train)"
      ]
    },
    {
      "cell_type": "code",
      "execution_count": 30,
      "metadata": {
        "colab": {
          "base_uri": "https://localhost:8080/"
        },
        "id": "9TQRzAi_D5Zs",
        "outputId": "7906b668-9e38-4a0a-d06d-78a0a33ae11c"
      },
      "outputs": [
        {
          "name": "stdout",
          "output_type": "stream",
          "text": [
            "     species\n",
            "6          0\n",
            "131        2\n",
            "74         1\n",
            "103        2\n",
            "70         1\n",
            "60         1\n",
            "64         1\n",
            "56         1\n",
            "31         0\n",
            "66         1\n",
            "69         1\n",
            "112        2\n",
            "54         1\n",
            "109        2\n",
            "45         0\n",
            "87         1\n",
            "121        2\n",
            "12         0\n",
            "115        2\n",
            "98         1\n",
            "119        2\n",
            "114        2\n",
            "96         1\n",
            "78         1\n",
            "68         1\n",
            "50         1\n",
            "82         1\n",
            "18         0\n",
            "38         0\n",
            "63         1\n",
            "43         0\n",
            "100        2\n",
            "58         1\n",
            "137        2\n",
            "44         0\n",
            "86         1\n",
            "118        2\n",
            "133        2\n",
            "104        2\n",
            "36         0\n",
            "77         1\n",
            "41         0\n",
            "94         1\n",
            "67         1\n",
            "110        2\n"
          ]
        }
      ],
      "source": [
        "print(Y_test)"
      ]
    },
    {
      "cell_type": "code",
      "execution_count": 31,
      "metadata": {
        "colab": {
          "base_uri": "https://localhost:8080/"
        },
        "id": "P02v0048D5cH",
        "outputId": "75d4c9fe-25b3-41a4-9c3f-671872fc30c7"
      },
      "outputs": [
        {
          "name": "stdout",
          "output_type": "stream",
          "text": [
            "Logistic Regression Accuracy =  0.7111111111111111\n"
          ]
        }
      ],
      "source": [
        "logistic_model = LogisticRegression().fit(X_train,Y_train.values.ravel())\n",
        "\n",
        "prediction = logistic_model.predict(X_test)\n",
        "print(\"Logistic Regression Accuracy = \",accuracy_score(prediction,Y_test))"
      ]
    },
    {
      "cell_type": "code",
      "execution_count": 32,
      "metadata": {
        "colab": {
          "base_uri": "https://localhost:8080/"
        },
        "id": "RbQ2li5QD5uY",
        "outputId": "8a2cbe6a-df00-4030-944c-729ef6ad96ec"
      },
      "outputs": [
        {
          "name": "stdout",
          "output_type": "stream",
          "text": [
            "K-Nearest Neighbors Bets Parmeter =  {'n_neighbors': 9}\n",
            "K-Nearest Neighbors Accuracy =  0.8380952380952381\n"
          ]
        }
      ],
      "source": [
        "k_nearest_neighbors_model = GridSearchCV(KNeighborsClassifier(),{\"n_neighbors\":np.arange(1,25)},cv=5).fit(X_train,Y_train.values.ravel())\n",
        "print(\"K-Nearest Neighbors Bets Parmeter = \",k_nearest_neighbors_model.best_params_)\n",
        "print(\"K-Nearest Neighbors Accuracy = \",k_nearest_neighbors_model.best_score_)"
      ]
    },
    {
      "cell_type": "code",
      "execution_count": 33,
      "metadata": {
        "colab": {
          "base_uri": "https://localhost:8080/"
        },
        "id": "WX2zS_pSD5wb",
        "outputId": "6161ace1-1b02-4377-8acf-652c2c240071"
      },
      "outputs": [
        {
          "name": "stdout",
          "output_type": "stream",
          "text": [
            "Support Vector Machine Accuracy =  0.7555555555555555\n"
          ]
        }
      ],
      "source": [
        "support_vector_machine_model = svm.SVC().fit(X_train,Y_train.values.ravel())\n",
        "prediction = support_vector_machine_model.predict(X_test)\n",
        "print(\"Support Vector Machine Accuracy = \",accuracy_score(prediction,Y_test))"
      ]
    },
    {
      "cell_type": "code",
      "execution_count": 34,
      "metadata": {
        "colab": {
          "base_uri": "https://localhost:8080/"
        },
        "id": "9aDE0cFOD5yt",
        "outputId": "e13909ae-24e7-4d5b-ddb2-3b9580029778"
      },
      "outputs": [
        {
          "name": "stdout",
          "output_type": "stream",
          "text": [
            "Decision Tree Accuracy =  0.6888888888888889\n"
          ]
        }
      ],
      "source": [
        "decision_tree = DecisionTreeClassifier().fit(X_train,Y_train)\n",
        "prediction = decision_tree.predict(X_test)\n",
        "print(\"Decision Tree Accuracy = \",accuracy_score(prediction,Y_test))"
      ]
    },
    {
      "cell_type": "code",
      "execution_count": 35,
      "metadata": {
        "id": "mg9x8i4QD51j"
      },
      "outputs": [],
      "source": [
        "petal_x = iris_df[[\"petal length (cm)\",\"petal width (cm)\"]]\n",
        "petal_y = iris_df[[\"species\"]]"
      ]
    },
    {
      "cell_type": "code",
      "execution_count": 36,
      "metadata": {
        "colab": {
          "base_uri": "https://localhost:8080/",
          "height": 386
        },
        "id": "BrQh-Ik525hK",
        "outputId": "d51cd615-6a7b-4a11-dcae-a01f6ddbe8c0"
      },
      "outputs": [
        {
          "data": {
            "text/plain": [
              "<seaborn.axisgrid.FacetGrid at 0x2cb9d563ca0>"
            ]
          },
          "execution_count": 36,
          "metadata": {},
          "output_type": "execute_result"
        },
        {
          "data": {
            "image/png": "[encoded data removed]",
            "text/plain": [
              "<Figure size 405.375x360 with 1 Axes>"
            ]
          },
          "metadata": {
            "needs_background": "light"
          },
          "output_type": "display_data"
        }
      ],
      "source": [
        "sns.lmplot(x=\"petal length (cm)\",y=\"petal width (cm)\",fit_reg = False,hue=\"species\",data = iris_df)"
      ]
    },
    {
      "cell_type": "code",
      "execution_count": 37,
      "metadata": {
        "id": "uzt-h5tAD53z"
      },
      "outputs": [],
      "source": [
        "X_train,X_test,Y_train,Y_test = train_test_split(petal_x,petal_y,test_size=0.3)"
      ]
    },
    {
      "cell_type": "code",
      "execution_count": 38,
      "metadata": {
        "colab": {
          "base_uri": "https://localhost:8080/"
        },
        "id": "PL2clC0VHNcO",
        "outputId": "05c497e3-804f-4a60-97ba-d604f1e4bdab"
      },
      "outputs": [
        {
          "name": "stdout",
          "output_type": "stream",
          "text": [
            "     petal length (cm)  petal width (cm)\n",
            "44                 1.9               0.4\n",
            "78                 4.5               1.5\n",
            "96                 4.2               1.3\n",
            "136                5.6               2.4\n",
            "62                 4.0               1.0\n",
            "..                 ...               ...\n",
            "108                5.8               1.8\n",
            "138                4.8               1.8\n",
            "36                 1.3               0.2\n",
            "21                 1.5               0.4\n",
            "48                 1.5               0.2\n",
            "\n",
            "[105 rows x 2 columns]\n"
          ]
        }
      ],
      "source": [
        "print(X_train)"
      ]
    },
    {
      "cell_type": "code",
      "execution_count": 39,
      "metadata": {
        "colab": {
          "base_uri": "https://localhost:8080/"
        },
        "id": "Gtn25-d4HNh8",
        "outputId": "a56cee66-010c-4e61-a0a3-a84142bbff0f"
      },
      "outputs": [
        {
          "name": "stdout",
          "output_type": "stream",
          "text": [
            "     petal length (cm)  petal width (cm)\n",
            "135                6.1               2.3\n",
            "53                 4.0               1.3\n",
            "128                5.6               2.1\n",
            "122                6.7               2.0\n",
            "46                 1.6               0.2\n",
            "57                 3.3               1.0\n",
            "142                5.1               1.9\n",
            "86                 4.7               1.5\n",
            "148                5.4               2.3\n",
            "73                 4.7               1.2\n",
            "66                 4.5               1.5\n",
            "54                 4.6               1.5\n",
            "1                  1.4               0.2\n",
            "90                 4.4               1.2\n",
            "146                5.0               1.9\n",
            "140                5.6               2.4\n",
            "111                5.3               1.9\n",
            "16                 1.3               0.4\n",
            "129                5.8               1.6\n",
            "126                4.8               1.8\n",
            "4                  1.4               0.2\n",
            "24                 1.9               0.2\n",
            "27                 1.5               0.2\n",
            "149                5.1               1.8\n",
            "125                6.0               1.8\n",
            "9                  1.5               0.1\n",
            "133                5.1               1.5\n",
            "45                 1.4               0.3\n",
            "145                5.2               2.3\n",
            "116                5.5               1.8\n",
            "41                 1.3               0.3\n",
            "124                5.7               2.1\n",
            "52                 4.9               1.5\n",
            "74                 4.3               1.3\n",
            "117                6.7               2.2\n",
            "91                 4.6               1.4\n",
            "59                 3.9               1.4\n",
            "83                 5.1               1.6\n",
            "63                 4.7               1.4\n",
            "80                 3.8               1.1\n",
            "123                4.9               1.8\n",
            "134                5.6               1.4\n",
            "127                4.9               1.8\n",
            "89                 4.0               1.3\n",
            "141                5.1               2.3\n"
          ]
        }
      ],
      "source": [
        "print(X_test)"
      ]
    },
    {
      "cell_type": "code",
      "execution_count": 40,
      "metadata": {
        "colab": {
          "base_uri": "https://localhost:8080/"
        },
        "id": "V6-orfLuHNkG",
        "outputId": "da97a7a5-2c85-41b6-bc57-8a2383042c06"
      },
      "outputs": [
        {
          "name": "stdout",
          "output_type": "stream",
          "text": [
            "     species\n",
            "44         0\n",
            "78         1\n",
            "96         1\n",
            "136        2\n",
            "62         1\n",
            "..       ...\n",
            "108        2\n",
            "138        2\n",
            "36         0\n",
            "21         0\n",
            "48         0\n",
            "\n",
            "[105 rows x 1 columns]\n"
          ]
        }
      ],
      "source": [
        "print(Y_train)"
      ]
    },
    {
      "cell_type": "code",
      "execution_count": 41,
      "metadata": {
        "colab": {
          "base_uri": "https://localhost:8080/"
        },
        "id": "YnPxQ7vsHNmH",
        "outputId": "05a4d25d-42c3-4cb3-dbd6-00e7310b8636"
      },
      "outputs": [
        {
          "name": "stdout",
          "output_type": "stream",
          "text": [
            "     species\n",
            "135        2\n",
            "53         1\n",
            "128        2\n",
            "122        2\n",
            "46         0\n",
            "57         1\n",
            "142        2\n",
            "86         1\n",
            "148        2\n",
            "73         1\n",
            "66         1\n",
            "54         1\n",
            "1          0\n",
            "90         1\n",
            "146        2\n",
            "140        2\n",
            "111        2\n",
            "16         0\n",
            "129        2\n",
            "126        2\n",
            "4          0\n",
            "24         0\n",
            "27         0\n",
            "149        2\n",
            "125        2\n",
            "9          0\n",
            "133        2\n",
            "45         0\n",
            "145        2\n",
            "116        2\n",
            "41         0\n",
            "124        2\n",
            "52         1\n",
            "74         1\n",
            "117        2\n",
            "91         1\n",
            "59         1\n",
            "83         1\n",
            "63         1\n",
            "80         1\n",
            "123        2\n",
            "134        2\n",
            "127        2\n",
            "89         1\n",
            "141        2\n"
          ]
        }
      ],
      "source": [
        "print(Y_test)"
      ]
    },
    {
      "cell_type": "code",
      "execution_count": 42,
      "metadata": {
        "colab": {
          "base_uri": "https://localhost:8080/"
        },
        "id": "9fgZB1CiHNoC",
        "outputId": "5fef0d6f-43da-4760-fdc0-56b91395a980"
      },
      "outputs": [
        {
          "name": "stdout",
          "output_type": "stream",
          "text": [
            "Logistic Regression Accuracy =  0.9333333333333333\n"
          ]
        }
      ],
      "source": [
        "logistic_model = LogisticRegression().fit(X_train,Y_train.values.ravel())\n",
        "\n",
        "prediction = logistic_model.predict(X_test)\n",
        "print(\"Logistic Regression Accuracy = \",accuracy_score(prediction,Y_test))"
      ]
    },
    {
      "cell_type": "code",
      "execution_count": 43,
      "metadata": {
        "colab": {
          "base_uri": "https://localhost:8080/"
        },
        "id": "YFNO4AqVHNqE",
        "outputId": "ed6d1913-c5e2-4f5f-d69f-bd55f9a03c65"
      },
      "outputs": [
        {
          "name": "stdout",
          "output_type": "stream",
          "text": [
            "K-Nearest Neighbors Bets Parmeter =  {'n_neighbors': 4}\n",
            "K-Nearest Neighbors Accuracy =  0.9714285714285713\n"
          ]
        }
      ],
      "source": [
        "k_nearest_neighbors_model = GridSearchCV(KNeighborsClassifier(),{\"n_neighbors\":np.arange(1,25)},cv=5).fit(X_train,Y_train.values.ravel())\n",
        "print(\"K-Nearest Neighbors Bets Parmeter = \",k_nearest_neighbors_model.best_params_)\n",
        "print(\"K-Nearest Neighbors Accuracy = \",k_nearest_neighbors_model.best_score_)"
      ]
    },
    {
      "cell_type": "code",
      "execution_count": 44,
      "metadata": {
        "colab": {
          "base_uri": "https://localhost:8080/"
        },
        "id": "5Ro-DdzXHNsA",
        "outputId": "ba69026f-43ae-4d8f-96c0-72429e659b04"
      },
      "outputs": [
        {
          "name": "stdout",
          "output_type": "stream",
          "text": [
            "Support Vector Machine Accuracy =  0.8888888888888888\n"
          ]
        }
      ],
      "source": [
        "support_vector_machine_model = svm.SVC().fit(X_train,Y_train.values.ravel())\n",
        "prediction = support_vector_machine_model.predict(X_test)\n",
        "print(\"Support Vector Machine Accuracy = \",accuracy_score(prediction,Y_test))"
      ]
    },
    {
      "cell_type": "code",
      "execution_count": 45,
      "metadata": {
        "colab": {
          "base_uri": "https://localhost:8080/"
        },
        "id": "b0nUfnqLHNtw",
        "outputId": "0feba4b0-8da0-4bed-b9c6-e6885d3340b1"
      },
      "outputs": [
        {
          "name": "stdout",
          "output_type": "stream",
          "text": [
            "Decision Tree Accuracy =  0.8888888888888888\n"
          ]
        }
      ],
      "source": [
        "decision_tree = DecisionTreeClassifier().fit(X_train,Y_train)\n",
        "prediction = decision_tree.predict(X_test)\n",
        "print(\"Decision Tree Accuracy = \",accuracy_score(prediction,Y_test))"
      ]
    },
    {
      "cell_type": "code",
      "execution_count": 46,
      "metadata": {
        "id": "GRMtW3w_2ch2"
      },
      "outputs": [],
      "source": [
        "prediction_petal_logistic_df = pd.DataFrame(logistic_model.predict(petal_x),columns=[\"prediction\"])\n",
        "prediction_iris_df = pd.DataFrame(concat([iris_df,prediction_petal_logistic_df],axis=1))"
      ]
    },
    {
      "cell_type": "code",
      "execution_count": 47,
      "metadata": {
        "colab": {
          "base_uri": "https://localhost:8080/"
        },
        "id": "R1uzWjVUiTwI",
        "outputId": "c2a86a24-8c32-44cd-c8d7-62689f0382ad"
      },
      "outputs": [
        {
          "name": "stdout",
          "output_type": "stream",
          "text": [
            "     sepal length (cm)  sepal width (cm)  petal length (cm)  petal width (cm)  \\\n",
            "0                  5.1               3.5                1.4               0.2   \n",
            "1                  4.9               3.0                1.4               0.2   \n",
            "2                  4.7               3.2                1.3               0.2   \n",
            "3                  4.6               3.1                1.5               0.2   \n",
            "4                  5.0               3.6                1.4               0.2   \n",
            "..                 ...               ...                ...               ...   \n",
            "145                6.7               3.0                5.2               2.3   \n",
            "146                6.3               2.5                5.0               1.9   \n",
            "147                6.5               3.0                5.2               2.0   \n",
            "148                6.2               3.4                5.4               2.3   \n",
            "149                5.9               3.0                5.1               1.8   \n",
            "\n",
            "     species  prediction  \n",
            "0          0           0  \n",
            "1          0           0  \n",
            "2          0           0  \n",
            "3          0           0  \n",
            "4          0           0  \n",
            "..       ...         ...  \n",
            "145        2           2  \n",
            "146        2           2  \n",
            "147        2           2  \n",
            "148        2           2  \n",
            "149        2           2  \n",
            "\n",
            "[150 rows x 6 columns]\n"
          ]
        }
      ],
      "source": [
        "print(prediction_iris_df)"
      ]
    }
  ],
  "metadata": {
    "colab": {
      "collapsed_sections": [],
      "name": "iris_classification.ipynb",
      "provenance": []
    },
    "kernelspec": {
      "display_name": "Python 3",
      "name": "python3"
    },
    "language_info": {
      "codemirror_mode": {
        "name": "ipython",
        "version": 3
      },
      "file_extension": ".py",
      "mimetype": "text/x-python",
      "name": "python",
      "nbconvert_exporter": "python",
      "pygments_lexer": "ipython3",
      "version": "3.9.9"
    }
  },
  "nbformat": 4,
  "nbformat_minor": 0
}
