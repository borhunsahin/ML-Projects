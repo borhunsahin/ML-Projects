{
  "nbformat": 4,
  "nbformat_minor": 0,
  "metadata": {
    "colab": {
      "name": "iris_sepal_length_prediction.ipynb",
      "provenance": [],
      "collapsed_sections": []
    },
    "kernelspec": {
      "name": "python3",
      "display_name": "Python 3"
    },
    "language_info": {
      "name": "python"
    }
  },
  "cells": [
    {
      "cell_type": "code",
      "source": [
        "from pandas.core.reshape.concat import concat\n",
        "\n",
        "import pandas as pd\n",
        "import numpy as np\n",
        "import matplotlib.pyplot as plt\n",
        "import seaborn as sns\n",
        "\n",
        "from sklearn.datasets import load_iris\n",
        "from sklearn.model_selection import train_test_split\n",
        "from sklearn.linear_model import LinearRegression,Lasso,Ridge\n",
        "from sklearn.metrics import r2_score,mean_absolute_error,mean_squared_error"
      ],
      "metadata": {
        "id": "bCTWtZcNBnG9"
      },
      "execution_count": null,
      "outputs": []
    },
    {
      "cell_type": "code",
      "source": [
        "iris = load_iris()"
      ],
      "metadata": {
        "id": "U0jasZOBBnYZ"
      },
      "execution_count": null,
      "outputs": []
    },
    {
      "cell_type": "code",
      "source": [
        "features_df = pd.DataFrame(data=iris.data, columns=iris.feature_names)\n",
        "label_df = pd.DataFrame(iris.target,columns=[\"species\"])"
      ],
      "metadata": {
        "id": "kJnYs1T0Bnhf"
      },
      "execution_count": null,
      "outputs": []
    },
    {
      "cell_type": "code",
      "source": [
        "iris_df = concat([features_df,label_df],axis=1)"
      ],
      "metadata": {
        "id": "KlkS1bHKBnk0"
      },
      "execution_count": null,
      "outputs": []
    },
    {
      "cell_type": "code",
      "source": [
        "print(iris_df)"
      ],
      "metadata": {
        "colab": {
          "base_uri": "https://localhost:8080/"
        },
        "id": "Zz5nS4nsBtKZ",
        "outputId": "d91bd1b0-21f2-463c-e768-8cb0dcb9a09d"
      },
      "execution_count": null,
      "outputs": [
        {
          "output_type": "stream",
          "name": "stdout",
          "text": [
            "     sepal length (cm)  sepal width (cm)  ...  petal width (cm)  species\n",
            "0                  5.1               3.5  ...               0.2        0\n",
            "1                  4.9               3.0  ...               0.2        0\n",
            "2                  4.7               3.2  ...               0.2        0\n",
            "3                  4.6               3.1  ...               0.2        0\n",
            "4                  5.0               3.6  ...               0.2        0\n",
            "..                 ...               ...  ...               ...      ...\n",
            "145                6.7               3.0  ...               2.3        2\n",
            "146                6.3               2.5  ...               1.9        2\n",
            "147                6.5               3.0  ...               2.0        2\n",
            "148                6.2               3.4  ...               2.3        2\n",
            "149                5.9               3.0  ...               1.8        2\n",
            "\n",
            "[150 rows x 5 columns]\n"
          ]
        }
      ]
    },
    {
      "cell_type": "code",
      "source": [
        "print(iris_df.isna().sum())"
      ],
      "metadata": {
        "colab": {
          "base_uri": "https://localhost:8080/"
        },
        "id": "GvjyOSRxBtOP",
        "outputId": "60157043-324a-4ce1-f62f-131c5b9aaa4f"
      },
      "execution_count": null,
      "outputs": [
        {
          "output_type": "stream",
          "name": "stdout",
          "text": [
            "sepal length (cm)    0\n",
            "sepal width (cm)     0\n",
            "petal length (cm)    0\n",
            "petal width (cm)     0\n",
            "species              0\n",
            "dtype: int64\n"
          ]
        }
      ]
    },
    {
      "cell_type": "code",
      "source": [
        "print(iris_df.info())"
      ],
      "metadata": {
        "colab": {
          "base_uri": "https://localhost:8080/"
        },
        "id": "_U0NavCtBtRB",
        "outputId": "fc32cfbc-7658-48c1-8ed4-16e312e61273"
      },
      "execution_count": null,
      "outputs": [
        {
          "output_type": "stream",
          "name": "stdout",
          "text": [
            "<class 'pandas.core.frame.DataFrame'>\n",
            "RangeIndex: 150 entries, 0 to 149\n",
            "Data columns (total 5 columns):\n",
            " #   Column             Non-Null Count  Dtype  \n",
            "---  ------             --------------  -----  \n",
            " 0   sepal length (cm)  150 non-null    float64\n",
            " 1   sepal width (cm)   150 non-null    float64\n",
            " 2   petal length (cm)  150 non-null    float64\n",
            " 3   petal width (cm)   150 non-null    float64\n",
            " 4   species            150 non-null    int64  \n",
            "dtypes: float64(4), int64(1)\n",
            "memory usage: 6.0 KB\n",
            "None\n"
          ]
        }
      ]
    },
    {
      "cell_type": "code",
      "source": [
        "print(iris_df.describe().T)"
      ],
      "metadata": {
        "colab": {
          "base_uri": "https://localhost:8080/"
        },
        "id": "tT7_aq-hBtTE",
        "outputId": "a7a19d2c-7865-4748-a086-f9a01117f168"
      },
      "execution_count": null,
      "outputs": [
        {
          "output_type": "stream",
          "name": "stdout",
          "text": [
            "                   count      mean       std  min  25%   50%  75%  max\n",
            "sepal length (cm)  150.0  5.843333  0.828066  4.3  5.1  5.80  6.4  7.9\n",
            "sepal width (cm)   150.0  3.057333  0.435866  2.0  2.8  3.00  3.3  4.4\n",
            "petal length (cm)  150.0  3.758000  1.765298  1.0  1.6  4.35  5.1  6.9\n",
            "petal width (cm)   150.0  1.199333  0.762238  0.1  0.3  1.30  1.8  2.5\n",
            "species            150.0  1.000000  0.819232  0.0  0.0  1.00  2.0  2.0\n"
          ]
        }
      ]
    },
    {
      "cell_type": "code",
      "source": [
        "print(iris_df.columns[1],iris_df.columns[2],iris_df.columns[3])"
      ],
      "metadata": {
        "colab": {
          "base_uri": "https://localhost:8080/"
        },
        "id": "te1vk034BtVm",
        "outputId": "60211c7b-042a-4f58-ee0b-4c2052888e42"
      },
      "execution_count": null,
      "outputs": [
        {
          "output_type": "stream",
          "name": "stdout",
          "text": [
            "sepal width (cm) petal length (cm) petal width (cm)\n"
          ]
        }
      ]
    },
    {
      "cell_type": "code",
      "source": [
        "print(iris_df.columns[0])"
      ],
      "metadata": {
        "colab": {
          "base_uri": "https://localhost:8080/"
        },
        "id": "DaHn0UadBtX7",
        "outputId": "baaf5b4f-08dd-4c39-ba1f-af19b3d4deea"
      },
      "execution_count": null,
      "outputs": [
        {
          "output_type": "stream",
          "name": "stdout",
          "text": [
            "sepal length (cm)\n"
          ]
        }
      ]
    },
    {
      "cell_type": "code",
      "source": [
        "sns.lmplot(x=\"sepal length (cm)\",y=\"sepal width (cm)\",fit_reg = False,hue=\"species\",data = iris_df)"
      ],
      "metadata": {
        "colab": {
          "base_uri": "https://localhost:8080/",
          "height": 386
        },
        "id": "aIHBfnB4BtaB",
        "outputId": "8eadb04a-3c2a-42a4-925f-f1e19ece09b8"
      },
      "execution_count": null,
      "outputs": [
        {
          "output_type": "execute_result",
          "data": {
            "text/plain": [
              "<seaborn.axisgrid.FacetGrid at 0x7fcd2f94de10>"
            ]
          },
          "metadata": {},
          "execution_count": 12
        },
        {
          "output_type": "display_data",
          "data": {
            "image/png": "[encoded data removed]",
            "text/plain": [
              "<Figure size 405.375x360 with 1 Axes>"
            ]
          },
          "metadata": {
            "needs_background": "light"
          }
        }
      ]
    },
    {
      "cell_type": "code",
      "source": [
        "sns.lmplot(x=\"petal length (cm)\",y=\"petal width (cm)\",fit_reg = False,hue=\"species\",data = iris_df)"
      ],
      "metadata": {
        "colab": {
          "base_uri": "https://localhost:8080/",
          "height": 386
        },
        "id": "6f9h9Z1FBnns",
        "outputId": "ced6ca7e-8c3f-4394-ee60-da8c2f129b9c"
      },
      "execution_count": null,
      "outputs": [
        {
          "output_type": "execute_result",
          "data": {
            "text/plain": [
              "<seaborn.axisgrid.FacetGrid at 0x7fcd26606dd0>"
            ]
          },
          "metadata": {},
          "execution_count": 13
        },
        {
          "output_type": "display_data",
          "data": {
            "image/png": "[encoded data removed]",
            "text/plain": [
              "<Figure size 405.375x360 with 1 Axes>"
            ]
          },
          "metadata": {
            "needs_background": "light"
          }
        }
      ]
    },
    {
      "cell_type": "code",
      "source": [
        "x = iris_df.drop(\"sepal length (cm)\", axis = 1)\n",
        "y = iris_df[\"sepal length (cm)\"]"
      ],
      "metadata": {
        "id": "Xd7o0DjcBnp9"
      },
      "execution_count": null,
      "outputs": []
    },
    {
      "cell_type": "code",
      "source": [
        "X_train,X_test,Y_train,Y_test=train_test_split(x,y,test_size=0.2)"
      ],
      "metadata": {
        "id": "zIHw0Os8CF70"
      },
      "execution_count": null,
      "outputs": []
    },
    {
      "cell_type": "code",
      "source": [
        "print(X_train)"
      ],
      "metadata": {
        "colab": {
          "base_uri": "https://localhost:8080/"
        },
        "id": "LIQGwKvCCGE1",
        "outputId": "a0a3abc4-56b3-4994-92e6-14436e0c9ce4"
      },
      "execution_count": null,
      "outputs": [
        {
          "output_type": "stream",
          "name": "stdout",
          "text": [
            "     sepal width (cm)  petal length (cm)  petal width (cm)  species\n",
            "15                4.4                1.5               0.4        0\n",
            "47                3.2                1.4               0.2        0\n",
            "133               2.8                5.1               1.5        2\n",
            "40                3.5                1.3               0.3        0\n",
            "137               3.1                5.5               1.8        2\n",
            "..                ...                ...               ...      ...\n",
            "63                2.9                4.7               1.4        1\n",
            "90                2.6                4.4               1.2        1\n",
            "92                2.6                4.0               1.2        1\n",
            "95                3.0                4.2               1.2        1\n",
            "141               3.1                5.1               2.3        2\n",
            "\n",
            "[120 rows x 4 columns]\n"
          ]
        }
      ]
    },
    {
      "cell_type": "code",
      "source": [
        "print(X_test)"
      ],
      "metadata": {
        "colab": {
          "base_uri": "https://localhost:8080/"
        },
        "id": "Tg0LzaxSCGHo",
        "outputId": "7a349e42-5acb-47e2-d390-933192f194a7"
      },
      "execution_count": null,
      "outputs": [
        {
          "output_type": "stream",
          "name": "stdout",
          "text": [
            "     sepal width (cm)  petal length (cm)  petal width (cm)  species\n",
            "42                3.2                1.3               0.2        0\n",
            "44                3.8                1.9               0.4        0\n",
            "125               3.2                6.0               1.8        2\n",
            "33                4.2                1.4               0.2        0\n",
            "76                2.8                4.8               1.4        1\n",
            "142               2.7                5.1               1.9        2\n",
            "21                3.7                1.5               0.4        0\n",
            "27                3.5                1.5               0.2        0\n",
            "149               3.0                5.1               1.8        2\n",
            "43                3.5                1.6               0.6        0\n",
            "29                3.2                1.6               0.2        0\n",
            "66                3.0                4.5               1.5        1\n",
            "57                2.4                3.3               1.0        1\n",
            "67                2.7                4.1               1.0        1\n",
            "17                3.5                1.4               0.3        0\n",
            "115               3.2                5.3               2.3        2\n",
            "34                3.1                1.5               0.2        0\n",
            "70                3.2                4.8               1.8        1\n",
            "25                3.0                1.6               0.2        0\n",
            "146               2.5                5.0               1.9        2\n",
            "24                3.4                1.9               0.2        0\n",
            "139               3.1                5.4               2.1        2\n",
            "19                3.8                1.5               0.3        0\n",
            "138               3.0                4.8               1.8        2\n",
            "121               2.8                4.9               2.0        2\n",
            "122               2.8                6.7               2.0        2\n",
            "65                3.1                4.4               1.4        1\n",
            "123               2.7                4.9               1.8        2\n",
            "64                2.9                3.6               1.3        1\n",
            "49                3.3                1.4               0.2        0\n"
          ]
        }
      ]
    },
    {
      "cell_type": "code",
      "source": [
        "print(Y_train)"
      ],
      "metadata": {
        "colab": {
          "base_uri": "https://localhost:8080/"
        },
        "id": "Uoz8WKYbCGLA",
        "outputId": "869c40c1-0c10-46d1-b1b2-50fccb97c576"
      },
      "execution_count": null,
      "outputs": [
        {
          "output_type": "stream",
          "name": "stdout",
          "text": [
            "15     5.7\n",
            "47     4.6\n",
            "133    6.3\n",
            "40     5.0\n",
            "137    6.4\n",
            "      ... \n",
            "63     6.1\n",
            "90     5.5\n",
            "92     5.8\n",
            "95     5.7\n",
            "141    6.9\n",
            "Name: sepal length (cm), Length: 120, dtype: float64\n"
          ]
        }
      ]
    },
    {
      "cell_type": "code",
      "source": [
        "print(Y_test)"
      ],
      "metadata": {
        "colab": {
          "base_uri": "https://localhost:8080/"
        },
        "id": "7eOYp26eCGNe",
        "outputId": "080aa224-dc74-4552-a9d0-a067d2fd9695"
      },
      "execution_count": null,
      "outputs": [
        {
          "output_type": "stream",
          "name": "stdout",
          "text": [
            "42     4.4\n",
            "44     5.1\n",
            "125    7.2\n",
            "33     5.5\n",
            "76     6.8\n",
            "142    5.8\n",
            "21     5.1\n",
            "27     5.2\n",
            "149    5.9\n",
            "43     5.0\n",
            "29     4.7\n",
            "66     5.6\n",
            "57     4.9\n",
            "67     5.8\n",
            "17     5.1\n",
            "115    6.4\n",
            "34     4.9\n",
            "70     5.9\n",
            "25     5.0\n",
            "146    6.3\n",
            "24     4.8\n",
            "139    6.9\n",
            "19     5.1\n",
            "138    6.0\n",
            "121    5.6\n",
            "122    7.7\n",
            "65     6.7\n",
            "123    6.3\n",
            "64     5.6\n",
            "49     5.0\n",
            "Name: sepal length (cm), dtype: float64\n"
          ]
        }
      ]
    },
    {
      "cell_type": "code",
      "source": [
        "linear_model = LinearRegression().fit(X_train,Y_train)\n",
        "print(f\"Linear Model --> Y=X1*{linear_model.coef_[0]} + X2*{linear_model.coef_[1]} + X3*{linear_model.coef_[2]} + {linear_model.intercept_}\")\n",
        "print(\"Score = \",linear_model.score(X_train,Y_train))\n"
      ],
      "metadata": {
        "colab": {
          "base_uri": "https://localhost:8080/"
        },
        "id": "xWin-9BrCGQJ",
        "outputId": "23dd950d-f2bb-4282-b708-7e5c31f99289"
      },
      "execution_count": null,
      "outputs": [
        {
          "output_type": "stream",
          "name": "stdout",
          "text": [
            "Linear Model --> Y=X1*0.6300985229784315 + X2*0.7227672390322439 + X3*-0.3415360220176578 + 1.8788501850605774\n",
            "Score =  0.8637225531938527\n"
          ]
        }
      ]
    },
    {
      "cell_type": "code",
      "source": [
        "lasso_model = Lasso().fit(X_train,Y_train)\n",
        "print(f\"Lasso Model --> Y=X1*{lasso_model.coef_[0]} + X2*{lasso_model.coef_[1]} + X3*{lasso_model.coef_[2]} + {lasso_model.intercept_}\")\n",
        "print(\"Score = \",lasso_model.score(X_train,Y_train))"
      ],
      "metadata": {
        "colab": {
          "base_uri": "https://localhost:8080/"
        },
        "id": "jArqHwV9CGSr",
        "outputId": "147533b7-e774-4230-92fc-9f911167d61f"
      },
      "execution_count": null,
      "outputs": [
        {
          "output_type": "stream",
          "name": "stdout",
          "text": [
            "Lasso Model --> Y=X1*0.0 + X2*0.08420461693415675 + X3*0.0 + 5.561584100458727\n",
            "Score =  0.2788780809411171\n"
          ]
        }
      ]
    },
    {
      "cell_type": "code",
      "source": [
        "ridge_model = Ridge().fit(X_train,Y_train)\n",
        "print(f\"Ridge Model --> Y=X1*{ridge_model.coef_[0]} + X2*{ridge_model.coef_[1]} + X3*{ridge_model.coef_[2]} + {ridge_model.intercept_}\")\n",
        "print(\"Score = \",ridge_model.score(X_train,Y_train))"
      ],
      "metadata": {
        "colab": {
          "base_uri": "https://localhost:8080/"
        },
        "id": "_soiPQ3ACGVK",
        "outputId": "40f24e7c-c41d-440b-a861-2c2bcdb72042"
      },
      "execution_count": null,
      "outputs": [
        {
          "output_type": "stream",
          "name": "stdout",
          "text": [
            "Ridge Model --> Y=X1*0.5869629401079749 + X2*0.6630904506156081 + X3*-0.23772625148509477 + 2.0863119377310917\n",
            "Score =  0.8625585890338292\n"
          ]
        }
      ]
    },
    {
      "cell_type": "code",
      "source": [
        "linear_prediction = linear_model.predict(X_test)"
      ],
      "metadata": {
        "id": "8vDw_ShqCGXx"
      },
      "execution_count": null,
      "outputs": []
    },
    {
      "cell_type": "code",
      "source": [
        "print(\"R^2 = \",r2_score(Y_test,linear_prediction))\n",
        "print(\"MAE = \",mean_absolute_error(Y_test,linear_prediction))\n",
        "print(\"MSE = \",mean_squared_error(Y_test,linear_prediction))\n",
        "print(\"RMSE = \",np.sqrt(mean_squared_error(Y_test,linear_prediction)))"
      ],
      "metadata": {
        "colab": {
          "base_uri": "https://localhost:8080/"
        },
        "id": "_1CKocvqCPaj",
        "outputId": "868007dd-7fb2-4596-9646-30fed521c632"
      },
      "execution_count": null,
      "outputs": [
        {
          "output_type": "stream",
          "name": "stdout",
          "text": [
            "R^2 =  0.8445987087906037\n",
            "MAE =  0.25820846247479134\n",
            "MSE =  0.09994202373878962\n",
            "RMSE =  0.31613608420866735\n"
          ]
        }
      ]
    },
    {
      "cell_type": "code",
      "source": [
        "lasso_prediction = lasso_model.predict(X_test)"
      ],
      "metadata": {
        "id": "BRHhbhD6CPfi"
      },
      "execution_count": null,
      "outputs": []
    },
    {
      "cell_type": "code",
      "source": [
        "print(\"R^2 = \",r2_score(Y_test,lasso_prediction))\n",
        "print(\"MAE = \",mean_absolute_error(Y_test,lasso_prediction))\n",
        "print(\"MSE = \",mean_squared_error(Y_test,lasso_prediction))\n",
        "print(\"RMSE = \",np.sqrt(mean_squared_error(Y_test,lasso_prediction)))"
      ],
      "metadata": {
        "colab": {
          "base_uri": "https://localhost:8080/"
        },
        "id": "Le-_2xMkCPij",
        "outputId": "e26d6aca-7b60-4835-d135-1aee67124a42"
      },
      "execution_count": null,
      "outputs": [
        {
          "output_type": "stream",
          "name": "stdout",
          "text": [
            "R^2 =  0.24051838564932393\n",
            "MAE =  0.590982902145494\n",
            "MSE =  0.48843950355812765\n",
            "RMSE =  0.698884470823417\n"
          ]
        }
      ]
    },
    {
      "cell_type": "code",
      "source": [
        "ridge_prediction = ridge_model.predict(X_test)"
      ],
      "metadata": {
        "id": "bKhVTc4ICPlK"
      },
      "execution_count": null,
      "outputs": []
    },
    {
      "cell_type": "code",
      "source": [
        "print(\"R^2 = \",r2_score(Y_test,ridge_prediction))\n",
        "print(\"MAE = \",mean_absolute_error(Y_test,ridge_prediction))\n",
        "print(\"MSE = \",mean_squared_error(Y_test,ridge_prediction))\n",
        "print(\"RMSE = \",np.sqrt(mean_squared_error(Y_test,ridge_prediction)))"
      ],
      "metadata": {
        "colab": {
          "base_uri": "https://localhost:8080/"
        },
        "id": "nzve1nzJCPnx",
        "outputId": "48186555-846a-466d-caae-fec2836d2b72"
      },
      "execution_count": null,
      "outputs": [
        {
          "output_type": "stream",
          "name": "stdout",
          "text": [
            "R^2 =  0.8411714750288771\n",
            "MAE =  0.26587604266383735\n",
            "MSE =  0.10214615393170628\n",
            "RMSE =  0.3196031194023398\n"
          ]
        }
      ]
    },
    {
      "cell_type": "code",
      "source": [
        "ridge_prediction_df = pd.DataFrame(ridge_model.predict(x),columns=[\"pred. sepal length (cm)\"])\n",
        "prediction_df = pd.DataFrame(concat([iris_df,ridge_prediction_df],axis=1))\n",
        "print(prediction_df)"
      ],
      "metadata": {
        "colab": {
          "base_uri": "https://localhost:8080/"
        },
        "id": "tQYnPYHOCPqH",
        "outputId": "bead3b01-c9b9-4bff-9791-8b70477146fd"
      },
      "execution_count": null,
      "outputs": [
        {
          "output_type": "stream",
          "name": "stdout",
          "text": [
            "     sepal length (cm)  sepal width (cm)  ...  species  pred. sepal length (cm)\n",
            "0                  5.1               3.5  ...        0                 5.021464\n",
            "1                  4.9               3.0  ...        0                 4.727982\n",
            "2                  4.7               3.2  ...        0                 4.779066\n",
            "3                  4.6               3.1  ...        0                 4.852987\n",
            "4                  5.0               3.6  ...        0                 5.080160\n",
            "..                 ...               ...  ...      ...                      ...\n",
            "145                6.7               3.0  ...        2                 6.284406\n",
            "146                6.3               2.5  ...        2                 5.953397\n",
            "147                6.5               3.0  ...        2                 6.355724\n",
            "148                6.2               3.4  ...        2                 6.651810\n",
            "149                5.9               3.0  ...        2                 6.336961\n",
            "\n",
            "[150 rows x 6 columns]\n"
          ]
        }
      ]
    }
  ]
}