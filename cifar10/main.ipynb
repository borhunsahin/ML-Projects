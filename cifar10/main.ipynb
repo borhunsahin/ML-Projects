{
 "cells": [
  {
   "cell_type": "code",
   "execution_count": 94,
   "metadata": {},
   "outputs": [],
   "source": [
    "import numpy as np\n",
    "import matplotlib.pyplot as plt\n",
    "import tensorflow as tf\n",
    "from sklearn.model_selection import train_test_split"
   ]
  },
  {
   "cell_type": "code",
   "execution_count": 95,
   "metadata": {},
   "outputs": [],
   "source": [
    "# data = tf.keras.datasets.cifar10.load_data()"
   ]
  },
  {
   "cell_type": "code",
   "execution_count": 96,
   "metadata": {},
   "outputs": [],
   "source": [
    "# x_train,x_test,y_train,y_test = train_test_split(data,data,test_size=0.5)"
   ]
  },
  {
   "cell_type": "code",
   "execution_count": 97,
   "metadata": {},
   "outputs": [],
   "source": [
    "(x_train,y_train),(x_test,y_test) = tf.keras.datasets.cifar10.load_data()"
   ]
  },
  {
   "cell_type": "code",
   "execution_count": 98,
   "metadata": {},
   "outputs": [
    {
     "name": "stdout",
     "output_type": "stream",
     "text": [
      "x_train=50000\n",
      "y_train=50000\n"
     ]
    }
   ],
   "source": [
    "print(f\"x_train={len(x_train)}\\ny_train={len(y_train)}\")"
   ]
  },
  {
   "cell_type": "code",
   "execution_count": 99,
   "metadata": {},
   "outputs": [
    {
     "data": {
      "text/plain": [
       "array([[[100, 111, 134],\n",
       "        [ 98, 110, 132],\n",
       "        [ 98, 109, 131],\n",
       "        ...,\n",
       "        [ 69,  89, 114],\n",
       "        [ 67,  87, 113],\n",
       "        [ 66,  86, 111]],\n",
       "\n",
       "       [[ 98, 109, 131],\n",
       "        [ 95, 106, 128],\n",
       "        [ 94, 105, 127],\n",
       "        ...,\n",
       "        [ 65,  85, 110],\n",
       "        [ 64,  84, 109],\n",
       "        [ 63,  83, 107]],\n",
       "\n",
       "       [[ 94, 105, 127],\n",
       "        [ 92, 103, 125],\n",
       "        [ 92, 103, 125],\n",
       "        ...,\n",
       "        [ 63,  83, 108],\n",
       "        [ 62,  82, 107],\n",
       "        [ 60,  80, 105]],\n",
       "\n",
       "       ...,\n",
       "\n",
       "       [[ 13,  27,  40],\n",
       "        [ 12,  26,  39],\n",
       "        [ 12,  26,  39],\n",
       "        ...,\n",
       "        [  4,   6,  21],\n",
       "        [  5,   7,  22],\n",
       "        [  4,   7,  22]],\n",
       "\n",
       "       [[ 12,  24,  38],\n",
       "        [ 14,  26,  39],\n",
       "        [  9,  21,  34],\n",
       "        ...,\n",
       "        [  3,   5,  19],\n",
       "        [  3,   5,  20],\n",
       "        [  5,   7,  22]],\n",
       "\n",
       "       [[ 14,  23,  34],\n",
       "        [ 12,  21,  31],\n",
       "        [  9,  19,  29],\n",
       "        ...,\n",
       "        [  4,   4,  17],\n",
       "        [  4,   5,  18],\n",
       "        [  5,   5,  18]]], dtype=uint8)"
      ]
     },
     "execution_count": 99,
     "metadata": {},
     "output_type": "execute_result"
    }
   ],
   "source": [
    "x_test[789]"
   ]
  },
  {
   "cell_type": "code",
   "execution_count": 100,
   "metadata": {},
   "outputs": [
    {
     "data": {
      "image/png": "[encoded data removed]",
      "text/plain": [
       "<Figure size 432x288 with 1 Axes>"
      ]
     },
     "metadata": {
      "needs_background": "light"
     },
     "output_type": "display_data"
    },
    {
     "name": "stdout",
     "output_type": "stream",
     "text": [
      "(32, 32, 3)\n"
     ]
    }
   ],
   "source": [
    "plt.imshow(x_test[789])\n",
    "plt.show()\n",
    "print(x_test[789].shape)"
   ]
  },
  {
   "cell_type": "code",
   "execution_count": 101,
   "metadata": {},
   "outputs": [],
   "source": [
    "x_val = x_train[40000:]\n",
    "y_val = y_train[40000:]\n",
    "\n",
    "x_train = x_train[:40000]\n",
    "y_train = y_train[:40000]"
   ]
  },
  {
   "cell_type": "code",
   "execution_count": 102,
   "metadata": {},
   "outputs": [
    {
     "name": "stdout",
     "output_type": "stream",
     "text": [
      "x_train=40000\n",
      "x_test=10000\n",
      "x_val=10000\n"
     ]
    }
   ],
   "source": [
    "print(f\"x_train={len(x_train)}\")\n",
    "print(f\"x_test={len(x_test)}\")\n",
    "print(f\"x_val={len(x_val)}\")"
   ]
  },
  {
   "cell_type": "code",
   "execution_count": 103,
   "metadata": {},
   "outputs": [],
   "source": [
    "x_train = x_train/255\n",
    "x_test = x_test/255\n",
    "x_val = x_val/255"
   ]
  },
  {
   "cell_type": "code",
   "execution_count": 104,
   "metadata": {},
   "outputs": [],
   "source": [
    "model = tf.keras.Sequential()"
   ]
  },
  {
   "cell_type": "code",
   "execution_count": 105,
   "metadata": {},
   "outputs": [],
   "source": [
    "model.add(tf.keras.layers.Conv2D(32,kernel_size=(3,3),strides=(1,1),padding=\"same\",activation=\"relu\",input_shape=(32,32,3)))\n",
    "model.add(tf.keras.layers.MaxPool2D((2,2)))"
   ]
  },
  {
   "cell_type": "code",
   "execution_count": 106,
   "metadata": {},
   "outputs": [],
   "source": [
    "model.add(tf.keras.layers.Conv2D(64,kernel_size=(3,3),strides=(1,1),padding=\"same\",activation=\"relu\"))\n",
    "model.add(tf.keras.layers.MaxPool2D((2,2)))\n",
    "model.add(tf.keras.layers.Conv2D(64,kernel_size=(3,3),strides=(1,1),padding=\"same\",activation=\"relu\"))"
   ]
  },
  {
   "cell_type": "code",
   "execution_count": 107,
   "metadata": {},
   "outputs": [],
   "source": [
    "model.add(tf.keras.layers.Flatten())"
   ]
  },
  {
   "cell_type": "code",
   "execution_count": 108,
   "metadata": {},
   "outputs": [],
   "source": [
    "model.add(tf.keras.layers.Dense(64,activation=\"relu\"))\n",
    "model.add(tf.keras.layers.Dropout(0.5))\n",
    "model.add(tf.keras.layers.Dense(64,activation=\"relu\"))\n",
    "model.add(tf.keras.layers.Dropout(0.5))"
   ]
  },
  {
   "cell_type": "code",
   "execution_count": 109,
   "metadata": {},
   "outputs": [],
   "source": [
    "model.add(tf.keras.layers.Dense(10,activation=\"softmax\"))"
   ]
  },
  {
   "cell_type": "code",
   "execution_count": 110,
   "metadata": {},
   "outputs": [],
   "source": [
    "model.compile(optimizer=\"adam\",loss=\"sparse_categorical_crossentropy\",metrics=[\"accuracy\"])"
   ]
  },
  {
   "cell_type": "code",
   "execution_count": 111,
   "metadata": {},
   "outputs": [
    {
     "name": "stdout",
     "output_type": "stream",
     "text": [
      "Epoch 1/50\n",
      "313/313 [==============================] - 25s 80ms/step - loss: 2.0056 - accuracy: 0.2331 - val_loss: 1.6496 - val_accuracy: 0.3944\n",
      "Epoch 2/50\n",
      "313/313 [==============================] - 26s 83ms/step - loss: 1.6989 - accuracy: 0.3551 - val_loss: 1.4257 - val_accuracy: 0.4819\n",
      "Epoch 3/50\n",
      "313/313 [==============================] - 24s 78ms/step - loss: 1.5509 - accuracy: 0.4205 - val_loss: 1.3875 - val_accuracy: 0.4940\n",
      "Epoch 4/50\n",
      "313/313 [==============================] - 23s 75ms/step - loss: 1.4662 - accuracy: 0.4598 - val_loss: 1.2272 - val_accuracy: 0.5718\n",
      "Epoch 5/50\n",
      "313/313 [==============================] - 25s 79ms/step - loss: 1.3917 - accuracy: 0.4913 - val_loss: 1.1419 - val_accuracy: 0.6152\n",
      "Epoch 6/50\n",
      "313/313 [==============================] - 25s 79ms/step - loss: 1.2953 - accuracy: 0.5309 - val_loss: 1.0947 - val_accuracy: 0.6213\n",
      "Epoch 7/50\n",
      "313/313 [==============================] - 24s 77ms/step - loss: 1.2365 - accuracy: 0.5588 - val_loss: 1.0856 - val_accuracy: 0.6181\n",
      "Epoch 8/50\n",
      "313/313 [==============================] - 24s 75ms/step - loss: 1.1743 - accuracy: 0.5818 - val_loss: 0.9882 - val_accuracy: 0.6633\n",
      "Epoch 9/50\n",
      "313/313 [==============================] - 23s 73ms/step - loss: 1.1265 - accuracy: 0.6032 - val_loss: 1.0057 - val_accuracy: 0.6595\n",
      "Epoch 10/50\n",
      "313/313 [==============================] - 24s 77ms/step - loss: 1.0745 - accuracy: 0.6206 - val_loss: 0.9389 - val_accuracy: 0.6781\n",
      "Epoch 11/50\n",
      "313/313 [==============================] - 24s 78ms/step - loss: 1.0297 - accuracy: 0.6405 - val_loss: 0.9705 - val_accuracy: 0.6721\n",
      "Epoch 12/50\n",
      "313/313 [==============================] - 24s 76ms/step - loss: 0.9879 - accuracy: 0.6543 - val_loss: 0.8873 - val_accuracy: 0.6984\n",
      "Epoch 13/50\n",
      "313/313 [==============================] - 23s 74ms/step - loss: 0.9588 - accuracy: 0.6645 - val_loss: 0.8862 - val_accuracy: 0.6965\n",
      "Epoch 14/50\n",
      "313/313 [==============================] - 23s 75ms/step - loss: 0.9128 - accuracy: 0.6842 - val_loss: 0.8738 - val_accuracy: 0.7095\n",
      "Epoch 15/50\n",
      "313/313 [==============================] - 23s 74ms/step - loss: 0.8892 - accuracy: 0.6903 - val_loss: 0.8503 - val_accuracy: 0.7179\n",
      "Epoch 16/50\n",
      "313/313 [==============================] - 23s 73ms/step - loss: 0.8660 - accuracy: 0.7009 - val_loss: 0.8402 - val_accuracy: 0.7218\n",
      "Epoch 17/50\n",
      "313/313 [==============================] - 23s 75ms/step - loss: 0.8335 - accuracy: 0.7079 - val_loss: 0.8441 - val_accuracy: 0.7186\n",
      "Epoch 18/50\n",
      "313/313 [==============================] - 23s 74ms/step - loss: 0.8117 - accuracy: 0.7173 - val_loss: 0.8573 - val_accuracy: 0.7190\n",
      "Epoch 19/50\n",
      "313/313 [==============================] - 23s 75ms/step - loss: 0.7910 - accuracy: 0.7233 - val_loss: 0.8274 - val_accuracy: 0.7269\n",
      "Epoch 20/50\n",
      "313/313 [==============================] - 23s 73ms/step - loss: 0.7546 - accuracy: 0.7378 - val_loss: 0.8730 - val_accuracy: 0.7185\n",
      "Epoch 21/50\n",
      "313/313 [==============================] - 23s 74ms/step - loss: 0.7436 - accuracy: 0.7410 - val_loss: 0.8733 - val_accuracy: 0.7238\n",
      "Epoch 22/50\n",
      "313/313 [==============================] - 23s 73ms/step - loss: 0.7222 - accuracy: 0.7495 - val_loss: 0.8878 - val_accuracy: 0.7243\n",
      "Epoch 23/50\n",
      "313/313 [==============================] - 23s 73ms/step - loss: 0.7113 - accuracy: 0.7546 - val_loss: 0.8819 - val_accuracy: 0.7261\n",
      "Epoch 24/50\n",
      "313/313 [==============================] - 23s 72ms/step - loss: 0.7027 - accuracy: 0.7556 - val_loss: 0.8788 - val_accuracy: 0.7190\n",
      "Epoch 25/50\n",
      "313/313 [==============================] - 23s 72ms/step - loss: 0.6695 - accuracy: 0.7660 - val_loss: 0.8830 - val_accuracy: 0.7270\n",
      "Epoch 26/50\n",
      "313/313 [==============================] - 23s 74ms/step - loss: 0.6611 - accuracy: 0.7678 - val_loss: 0.8776 - val_accuracy: 0.7318\n",
      "Epoch 27/50\n",
      "313/313 [==============================] - 23s 74ms/step - loss: 0.6513 - accuracy: 0.7727 - val_loss: 0.9254 - val_accuracy: 0.7258\n",
      "Epoch 28/50\n",
      "313/313 [==============================] - 23s 73ms/step - loss: 0.6379 - accuracy: 0.7767 - val_loss: 0.9247 - val_accuracy: 0.7293\n",
      "Epoch 29/50\n",
      "313/313 [==============================] - 23s 73ms/step - loss: 0.6306 - accuracy: 0.7786 - val_loss: 0.9235 - val_accuracy: 0.7269\n",
      "Epoch 30/50\n",
      "313/313 [==============================] - 23s 73ms/step - loss: 0.6099 - accuracy: 0.7870 - val_loss: 0.9491 - val_accuracy: 0.7334\n",
      "Epoch 31/50\n",
      "313/313 [==============================] - 23s 74ms/step - loss: 0.6011 - accuracy: 0.7902 - val_loss: 0.9351 - val_accuracy: 0.7328\n",
      "Epoch 32/50\n",
      "313/313 [==============================] - 23s 73ms/step - loss: 0.5919 - accuracy: 0.7950 - val_loss: 0.9664 - val_accuracy: 0.7277\n",
      "Epoch 33/50\n",
      "313/313 [==============================] - 23s 73ms/step - loss: 0.5689 - accuracy: 0.7991 - val_loss: 0.9640 - val_accuracy: 0.7267\n",
      "Epoch 34/50\n",
      "313/313 [==============================] - 23s 74ms/step - loss: 0.5660 - accuracy: 0.8039 - val_loss: 1.0067 - val_accuracy: 0.7322\n",
      "Epoch 35/50\n",
      "313/313 [==============================] - 23s 75ms/step - loss: 0.5548 - accuracy: 0.8058 - val_loss: 0.9960 - val_accuracy: 0.7240\n",
      "Epoch 36/50\n",
      "313/313 [==============================] - 23s 75ms/step - loss: 0.5384 - accuracy: 0.8120 - val_loss: 1.0193 - val_accuracy: 0.7323\n",
      "Epoch 37/50\n",
      "313/313 [==============================] - 23s 75ms/step - loss: 0.5347 - accuracy: 0.8122 - val_loss: 1.0064 - val_accuracy: 0.7345\n",
      "Epoch 38/50\n",
      "313/313 [==============================] - 23s 75ms/step - loss: 0.5271 - accuracy: 0.8156 - val_loss: 1.0232 - val_accuracy: 0.7331\n",
      "Epoch 39/50\n",
      "313/313 [==============================] - 23s 74ms/step - loss: 0.5002 - accuracy: 0.8253 - val_loss: 1.0290 - val_accuracy: 0.7303\n",
      "Epoch 40/50\n",
      "313/313 [==============================] - 23s 74ms/step - loss: 0.5079 - accuracy: 0.8242 - val_loss: 1.0412 - val_accuracy: 0.7361\n",
      "Epoch 41/50\n",
      "313/313 [==============================] - 23s 75ms/step - loss: 0.4906 - accuracy: 0.8296 - val_loss: 1.0808 - val_accuracy: 0.7287\n",
      "Epoch 42/50\n",
      "313/313 [==============================] - 23s 75ms/step - loss: 0.4990 - accuracy: 0.8276 - val_loss: 1.1049 - val_accuracy: 0.7297\n",
      "Epoch 43/50\n",
      "313/313 [==============================] - 23s 74ms/step - loss: 0.4921 - accuracy: 0.8288 - val_loss: 1.0676 - val_accuracy: 0.7308\n",
      "Epoch 44/50\n",
      "313/313 [==============================] - 23s 74ms/step - loss: 0.4797 - accuracy: 0.8341 - val_loss: 1.0627 - val_accuracy: 0.7252\n",
      "Epoch 45/50\n",
      "313/313 [==============================] - 23s 74ms/step - loss: 0.4889 - accuracy: 0.8339 - val_loss: 1.1193 - val_accuracy: 0.7271\n",
      "Epoch 46/50\n",
      "313/313 [==============================] - 23s 74ms/step - loss: 0.4540 - accuracy: 0.8395 - val_loss: 1.1288 - val_accuracy: 0.7300\n",
      "Epoch 47/50\n",
      "313/313 [==============================] - 24s 75ms/step - loss: 0.4649 - accuracy: 0.8404 - val_loss: 1.1075 - val_accuracy: 0.7300\n",
      "Epoch 48/50\n",
      "313/313 [==============================] - 24s 76ms/step - loss: 0.4509 - accuracy: 0.8443 - val_loss: 1.1309 - val_accuracy: 0.7302\n",
      "Epoch 49/50\n",
      "313/313 [==============================] - 23s 74ms/step - loss: 0.4517 - accuracy: 0.8425 - val_loss: 1.1457 - val_accuracy: 0.7274\n",
      "Epoch 50/50\n",
      "313/313 [==============================] - 22s 72ms/step - loss: 0.4410 - accuracy: 0.8455 - val_loss: 1.1664 - val_accuracy: 0.7328\n"
     ]
    }
   ],
   "source": [
    "results = model.fit(x_train, y_train,\n",
    "batch_size=128,\n",
    "epochs=50,\n",
    "validation_data=(x_val,y_val))"
   ]
  },
  {
   "cell_type": "code",
   "execution_count": 112,
   "metadata": {},
   "outputs": [
    {
     "data": {
      "image/png": "[encoded data removed]",
      "text/plain": [
       "<Figure size 432x288 with 1 Axes>"
      ]
     },
     "metadata": {
      "needs_background": "light"
     },
     "output_type": "display_data"
    }
   ],
   "source": [
    "plt.plot(results.history[\"loss\"],label=\"loss\")\n",
    "plt.plot(results.history[\"val_loss\"],label=\"val_loss\")\n",
    "plt.xlabel(\"Epoch\")\n",
    "plt.ylabel(\"Loss\")\n",
    "plt.legend()\n",
    "plt.show()"
   ]
  },
  {
   "cell_type": "code",
   "execution_count": 117,
   "metadata": {},
   "outputs": [
    {
     "data": {
      "image/png": "[encoded data removed]",
      "text/plain": [
       "<Figure size 432x288 with 1 Axes>"
      ]
     },
     "metadata": {
      "needs_background": "light"
     },
     "output_type": "display_data"
    }
   ],
   "source": [
    "plt.plot(results.history[\"accuracy\"],label=\"accuracy\")\n",
    "plt.plot(results.history[\"val_accuracy\"],label=\"val_accuracy\")\n",
    "plt.xlabel(\"Epoch\")\n",
    "plt.ylabel(\"Accuracy\")\n",
    "plt.legend()\n",
    "plt.show()"
   ]
  },
  {
   "cell_type": "code",
   "execution_count": 118,
   "metadata": {},
   "outputs": [
    {
     "name": "stdout",
     "output_type": "stream",
     "text": [
      "313/313 [==============================] - 5s 15ms/step - loss: 1.1672 - accuracy: 0.7278\n"
     ]
    },
    {
     "data": {
      "text/plain": [
       "[1.167187213897705, 0.7278000116348267]"
      ]
     },
     "execution_count": 118,
     "metadata": {},
     "output_type": "execute_result"
    }
   ],
   "source": [
    "model.evaluate(x_test,y_test)"
   ]
  },
  {
   "cell_type": "code",
   "execution_count": 119,
   "metadata": {},
   "outputs": [
    {
     "name": "stdout",
     "output_type": "stream",
     "text": [
      "1/1 [==============================] - 1s 880ms/step\n"
     ]
    },
    {
     "data": {
      "text/plain": [
       "array([[1.58204230e-07, 1.84560578e-16, 1.03430081e-15, 4.33625101e-23,\n",
       "        3.12637556e-28, 1.79529219e-28, 2.60579584e-20, 5.08161792e-29,\n",
       "        9.99999881e-01, 1.05192353e-16]], dtype=float32)"
      ]
     },
     "execution_count": 119,
     "metadata": {},
     "output_type": "execute_result"
    }
   ],
   "source": [
    "prediction_result = model.predict(x_test[789].reshape(1,32,32,3))\n",
    "prediction_result"
   ]
  },
  {
   "cell_type": "code",
   "execution_count": 120,
   "metadata": {},
   "outputs": [],
   "source": [
    "predicted_class=prediction_result.argmax()\n",
    "predicted_probability = prediction_result.max()"
   ]
  },
  {
   "cell_type": "code",
   "execution_count": 121,
   "metadata": {},
   "outputs": [
    {
     "name": "stdout",
     "output_type": "stream",
     "text": [
      "This image belongs to class 8 with 0.9999998807907104 probability %\n"
     ]
    }
   ],
   "source": [
    "print(f\"This image belongs to class {predicted_class} with {predicted_probability} probability %\")"
   ]
  },
  {
   "cell_type": "code",
   "execution_count": null,
   "metadata": {},
   "outputs": [],
   "source": []
  },
  {
   "cell_type": "code",
   "execution_count": null,
   "metadata": {},
   "outputs": [],
   "source": []
  },
  {
   "cell_type": "code",
   "execution_count": null,
   "metadata": {},
   "outputs": [],
   "source": []
  },
  {
   "cell_type": "code",
   "execution_count": null,
   "metadata": {},
   "outputs": [],
   "source": []
  },
  {
   "cell_type": "code",
   "execution_count": null,
   "metadata": {},
   "outputs": [],
   "source": []
  },
  {
   "cell_type": "code",
   "execution_count": null,
   "metadata": {},
   "outputs": [],
   "source": []
  }
 ],
 "metadata": {
  "kernelspec": {
   "display_name": "Python 3",
   "language": "python",
   "name": "python3"
  },
  "language_info": {
   "codemirror_mode": {
    "name": "ipython",
    "version": 3
   },
   "file_extension": ".py",
   "mimetype": "text/x-python",
   "name": "python",
   "nbconvert_exporter": "python",
   "pygments_lexer": "ipython3",
   "version": "3.10.2 (tags/v3.10.2:a58ebcc, Jan 17 2022, 14:12:15) [MSC v.1929 64 bit (AMD64)]"
  },
  "orig_nbformat": 4,
  "vscode": {
   "interpreter": {
    "hash": "8156a36ef2b5e5cc1ebda271ff76bc51e3d60fa787ad119300a3a2fb77f01d4c"
   }
  }
 },
 "nbformat": 4,
 "nbformat_minor": 2
}
